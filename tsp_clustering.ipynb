{
 "cells": [
  {
   "cell_type": "code",
   "execution_count": 1,
   "metadata": {},
   "outputs": [],
   "source": [
    "from math import sqrt, isnan\n",
    "from collections import OrderedDict\n",
    "import pandas as pd\n",
    "import numpy as np\n",
    "import itertools\n",
    "from sklearn.cluster import KMeans\n",
    "from sklearn.preprocessing import MinMaxScaler\n",
    "from matplotlib import pyplot as plt\n",
    "%matplotlib inline\n"
   ]
  },
  {
   "cell_type": "code",
   "execution_count": 2,
   "metadata": {},
   "outputs": [
    {
     "data": {
      "text/html": [
       "<div>\n",
       "<style scoped>\n",
       "    .dataframe tbody tr th:only-of-type {\n",
       "        vertical-align: middle;\n",
       "    }\n",
       "\n",
       "    .dataframe tbody tr th {\n",
       "        vertical-align: top;\n",
       "    }\n",
       "\n",
       "    .dataframe thead th {\n",
       "        text-align: right;\n",
       "    }\n",
       "</style>\n",
       "<table border=\"1\" class=\"dataframe\">\n",
       "  <thead>\n",
       "    <tr style=\"text-align: right;\">\n",
       "      <th></th>\n",
       "      <th>Name</th>\n",
       "      <th>Age</th>\n",
       "      <th>Income</th>\n",
       "    </tr>\n",
       "  </thead>\n",
       "  <tbody>\n",
       "    <tr>\n",
       "      <th>0</th>\n",
       "      <td>a</td>\n",
       "      <td>27</td>\n",
       "      <td>70.0</td>\n",
       "    </tr>\n",
       "    <tr>\n",
       "      <th>1</th>\n",
       "      <td>b</td>\n",
       "      <td>29</td>\n",
       "      <td>90.0</td>\n",
       "    </tr>\n",
       "    <tr>\n",
       "      <th>2</th>\n",
       "      <td>c</td>\n",
       "      <td>29</td>\n",
       "      <td>61.0</td>\n",
       "    </tr>\n",
       "    <tr>\n",
       "      <th>3</th>\n",
       "      <td>d</td>\n",
       "      <td>28</td>\n",
       "      <td>60.0</td>\n",
       "    </tr>\n",
       "    <tr>\n",
       "      <th>4</th>\n",
       "      <td>e</td>\n",
       "      <td>42</td>\n",
       "      <td>150.0</td>\n",
       "    </tr>\n",
       "  </tbody>\n",
       "</table>\n",
       "</div>"
      ],
      "text/plain": [
       "  Name  Age  Income\n",
       "0    a   27    70.0\n",
       "1    b   29    90.0\n",
       "2    c   29    61.0\n",
       "3    d   28    60.0\n",
       "4    e   42   150.0"
      ]
     },
     "execution_count": 2,
     "metadata": {},
     "output_type": "execute_result"
    }
   ],
   "source": [
    "df = pd.read_csv(\"gigi.csv\", sep = \";\", names= [\"Name\", \"Age\", \"Income\"])\n",
    "df.head()"
   ]
  },
  {
   "cell_type": "code",
   "execution_count": 3,
   "metadata": {},
   "outputs": [
    {
     "data": {
      "text/plain": [
       "<matplotlib.collections.PathCollection at 0x21eb3724ac0>"
      ]
     },
     "execution_count": 3,
     "metadata": {},
     "output_type": "execute_result"
    },
    {
     "data": {
      "image/png": "[encoded data removed]",
      "text/plain": [
       "<Figure size 432x288 with 1 Axes>"
      ]
     },
     "metadata": {
      "needs_background": "light"
     },
     "output_type": "display_data"
    }
   ],
   "source": [
    "plt.scatter(df[\"Age\"], df[\"Income\"])"
   ]
  },
  {
   "cell_type": "code",
   "execution_count": 4,
   "metadata": {},
   "outputs": [],
   "source": [
    "km = KMeans(n_clusters=3)\n",
    "y_pred = km.fit_predict(df[[\"Age\", \"Income\"]])"
   ]
  },
  {
   "cell_type": "code",
   "execution_count": 5,
   "metadata": {},
   "outputs": [
    {
     "data": {
      "text/html": [
       "<div>\n",
       "<style scoped>\n",
       "    .dataframe tbody tr th:only-of-type {\n",
       "        vertical-align: middle;\n",
       "    }\n",
       "\n",
       "    .dataframe tbody tr th {\n",
       "        vertical-align: top;\n",
       "    }\n",
       "\n",
       "    .dataframe thead th {\n",
       "        text-align: right;\n",
       "    }\n",
       "</style>\n",
       "<table border=\"1\" class=\"dataframe\">\n",
       "  <thead>\n",
       "    <tr style=\"text-align: right;\">\n",
       "      <th></th>\n",
       "      <th>Name</th>\n",
       "      <th>Age</th>\n",
       "      <th>Income</th>\n",
       "      <th>cluster</th>\n",
       "    </tr>\n",
       "  </thead>\n",
       "  <tbody>\n",
       "    <tr>\n",
       "      <th>0</th>\n",
       "      <td>a</td>\n",
       "      <td>27</td>\n",
       "      <td>70.0</td>\n",
       "      <td>1</td>\n",
       "    </tr>\n",
       "    <tr>\n",
       "      <th>1</th>\n",
       "      <td>b</td>\n",
       "      <td>29</td>\n",
       "      <td>90.0</td>\n",
       "      <td>2</td>\n",
       "    </tr>\n",
       "    <tr>\n",
       "      <th>2</th>\n",
       "      <td>c</td>\n",
       "      <td>29</td>\n",
       "      <td>61.0</td>\n",
       "      <td>1</td>\n",
       "    </tr>\n",
       "    <tr>\n",
       "      <th>3</th>\n",
       "      <td>d</td>\n",
       "      <td>28</td>\n",
       "      <td>60.0</td>\n",
       "      <td>1</td>\n",
       "    </tr>\n",
       "    <tr>\n",
       "      <th>4</th>\n",
       "      <td>e</td>\n",
       "      <td>42</td>\n",
       "      <td>150.0</td>\n",
       "      <td>0</td>\n",
       "    </tr>\n",
       "  </tbody>\n",
       "</table>\n",
       "</div>"
      ],
      "text/plain": [
       "  Name  Age  Income  cluster\n",
       "0    a   27    70.0        1\n",
       "1    b   29    90.0        2\n",
       "2    c   29    61.0        1\n",
       "3    d   28    60.0        1\n",
       "4    e   42   150.0        0"
      ]
     },
     "execution_count": 5,
     "metadata": {},
     "output_type": "execute_result"
    }
   ],
   "source": [
    "df[\"cluster\"] = y_pred\n",
    "df.head()"
   ]
  },
  {
   "cell_type": "code",
   "execution_count": 6,
   "metadata": {},
   "outputs": [
    {
     "name": "stderr",
     "output_type": "stream",
     "text": [
      "No handles with labels found to put in legend.\n"
     ]
    },
    {
     "data": {
      "text/plain": [
       "<matplotlib.legend.Legend at 0x21eb3ef8a00>"
      ]
     },
     "execution_count": 6,
     "metadata": {},
     "output_type": "execute_result"
    },
    {
     "data": {
      "image/png": "[encoded data removed]",
      "text/plain": [
       "<Figure size 432x288 with 1 Axes>"
      ]
     },
     "metadata": {
      "needs_background": "light"
     },
     "output_type": "display_data"
    }
   ],
   "source": [
    "df1 = df[df.cluster == 0]\n",
    "df2 = df[df.cluster == 1]\n",
    "df3 = df[df.cluster == 2]\n",
    "\n",
    "plt.scatter(df1.Age, df1[\"Income\"], color = \"green\")\n",
    "plt.scatter(df2.Age, df2[\"Income\"], color = \"red\")\n",
    "plt.scatter(df3.Age, df3[\"Income\"], color = \"blue\")\n",
    "\n",
    "# plt.scatter(km.cluster_centers_[:, 0], km.cluster_centers_[:, 1], color= \"black\", label = \"centroid\")\n",
    "plt.legend()"
   ]
  },
  {
   "cell_type": "code",
   "execution_count": 7,
   "metadata": {},
   "outputs": [
    {
     "data": {
      "text/html": [
       "<div>\n",
       "<style scoped>\n",
       "    .dataframe tbody tr th:only-of-type {\n",
       "        vertical-align: middle;\n",
       "    }\n",
       "\n",
       "    .dataframe tbody tr th {\n",
       "        vertical-align: top;\n",
       "    }\n",
       "\n",
       "    .dataframe thead th {\n",
       "        text-align: right;\n",
       "    }\n",
       "</style>\n",
       "<table border=\"1\" class=\"dataframe\">\n",
       "  <thead>\n",
       "    <tr style=\"text-align: right;\">\n",
       "      <th></th>\n",
       "      <th>Name</th>\n",
       "      <th>Age</th>\n",
       "      <th>Income</th>\n",
       "      <th>cluster</th>\n",
       "      <th>Age_Norm</th>\n",
       "      <th>Income_Norm</th>\n",
       "    </tr>\n",
       "  </thead>\n",
       "  <tbody>\n",
       "    <tr>\n",
       "      <th>0</th>\n",
       "      <td>a</td>\n",
       "      <td>27</td>\n",
       "      <td>70.0</td>\n",
       "      <td>1</td>\n",
       "      <td>0.058824</td>\n",
       "      <td>0.213675</td>\n",
       "    </tr>\n",
       "    <tr>\n",
       "      <th>1</th>\n",
       "      <td>b</td>\n",
       "      <td>29</td>\n",
       "      <td>90.0</td>\n",
       "      <td>2</td>\n",
       "      <td>0.176471</td>\n",
       "      <td>0.384615</td>\n",
       "    </tr>\n",
       "    <tr>\n",
       "      <th>2</th>\n",
       "      <td>c</td>\n",
       "      <td>29</td>\n",
       "      <td>61.0</td>\n",
       "      <td>1</td>\n",
       "      <td>0.176471</td>\n",
       "      <td>0.136752</td>\n",
       "    </tr>\n",
       "    <tr>\n",
       "      <th>3</th>\n",
       "      <td>d</td>\n",
       "      <td>28</td>\n",
       "      <td>60.0</td>\n",
       "      <td>1</td>\n",
       "      <td>0.117647</td>\n",
       "      <td>0.128205</td>\n",
       "    </tr>\n",
       "    <tr>\n",
       "      <th>4</th>\n",
       "      <td>e</td>\n",
       "      <td>42</td>\n",
       "      <td>150.0</td>\n",
       "      <td>0</td>\n",
       "      <td>0.941176</td>\n",
       "      <td>0.897436</td>\n",
       "    </tr>\n",
       "    <tr>\n",
       "      <th>5</th>\n",
       "      <td>f</td>\n",
       "      <td>39</td>\n",
       "      <td>155.0</td>\n",
       "      <td>0</td>\n",
       "      <td>0.764706</td>\n",
       "      <td>0.940171</td>\n",
       "    </tr>\n",
       "    <tr>\n",
       "      <th>6</th>\n",
       "      <td>g</td>\n",
       "      <td>41</td>\n",
       "      <td>160.0</td>\n",
       "      <td>0</td>\n",
       "      <td>0.882353</td>\n",
       "      <td>0.982906</td>\n",
       "    </tr>\n",
       "    <tr>\n",
       "      <th>7</th>\n",
       "      <td>h</td>\n",
       "      <td>38</td>\n",
       "      <td>162.0</td>\n",
       "      <td>0</td>\n",
       "      <td>0.705882</td>\n",
       "      <td>1.000000</td>\n",
       "    </tr>\n",
       "    <tr>\n",
       "      <th>8</th>\n",
       "      <td>i</td>\n",
       "      <td>36</td>\n",
       "      <td>156.0</td>\n",
       "      <td>0</td>\n",
       "      <td>0.588235</td>\n",
       "      <td>0.948718</td>\n",
       "    </tr>\n",
       "    <tr>\n",
       "      <th>9</th>\n",
       "      <td>j</td>\n",
       "      <td>35</td>\n",
       "      <td>130.0</td>\n",
       "      <td>0</td>\n",
       "      <td>0.529412</td>\n",
       "      <td>0.726496</td>\n",
       "    </tr>\n",
       "    <tr>\n",
       "      <th>10</th>\n",
       "      <td>k</td>\n",
       "      <td>37</td>\n",
       "      <td>137.0</td>\n",
       "      <td>0</td>\n",
       "      <td>0.647059</td>\n",
       "      <td>0.786325</td>\n",
       "    </tr>\n",
       "    <tr>\n",
       "      <th>11</th>\n",
       "      <td>l</td>\n",
       "      <td>26</td>\n",
       "      <td>45.0</td>\n",
       "      <td>1</td>\n",
       "      <td>0.000000</td>\n",
       "      <td>0.000000</td>\n",
       "    </tr>\n",
       "    <tr>\n",
       "      <th>12</th>\n",
       "      <td>m</td>\n",
       "      <td>27</td>\n",
       "      <td>48.0</td>\n",
       "      <td>1</td>\n",
       "      <td>0.058824</td>\n",
       "      <td>0.025641</td>\n",
       "    </tr>\n",
       "    <tr>\n",
       "      <th>13</th>\n",
       "      <td>n</td>\n",
       "      <td>28</td>\n",
       "      <td>51.0</td>\n",
       "      <td>1</td>\n",
       "      <td>0.117647</td>\n",
       "      <td>0.051282</td>\n",
       "    </tr>\n",
       "    <tr>\n",
       "      <th>14</th>\n",
       "      <td>o</td>\n",
       "      <td>29</td>\n",
       "      <td>49.5</td>\n",
       "      <td>1</td>\n",
       "      <td>0.176471</td>\n",
       "      <td>0.038462</td>\n",
       "    </tr>\n",
       "    <tr>\n",
       "      <th>15</th>\n",
       "      <td>p</td>\n",
       "      <td>32</td>\n",
       "      <td>53.0</td>\n",
       "      <td>1</td>\n",
       "      <td>0.352941</td>\n",
       "      <td>0.068376</td>\n",
       "    </tr>\n",
       "    <tr>\n",
       "      <th>16</th>\n",
       "      <td>q</td>\n",
       "      <td>40</td>\n",
       "      <td>65.0</td>\n",
       "      <td>1</td>\n",
       "      <td>0.823529</td>\n",
       "      <td>0.170940</td>\n",
       "    </tr>\n",
       "    <tr>\n",
       "      <th>17</th>\n",
       "      <td>r</td>\n",
       "      <td>41</td>\n",
       "      <td>63.0</td>\n",
       "      <td>1</td>\n",
       "      <td>0.882353</td>\n",
       "      <td>0.153846</td>\n",
       "    </tr>\n",
       "    <tr>\n",
       "      <th>18</th>\n",
       "      <td>s</td>\n",
       "      <td>43</td>\n",
       "      <td>64.0</td>\n",
       "      <td>1</td>\n",
       "      <td>1.000000</td>\n",
       "      <td>0.162393</td>\n",
       "    </tr>\n",
       "    <tr>\n",
       "      <th>19</th>\n",
       "      <td>t</td>\n",
       "      <td>39</td>\n",
       "      <td>80.0</td>\n",
       "      <td>2</td>\n",
       "      <td>0.764706</td>\n",
       "      <td>0.299145</td>\n",
       "    </tr>\n",
       "    <tr>\n",
       "      <th>20</th>\n",
       "      <td>u</td>\n",
       "      <td>41</td>\n",
       "      <td>82.0</td>\n",
       "      <td>2</td>\n",
       "      <td>0.882353</td>\n",
       "      <td>0.316239</td>\n",
       "    </tr>\n",
       "    <tr>\n",
       "      <th>21</th>\n",
       "      <td>v</td>\n",
       "      <td>39</td>\n",
       "      <td>58.0</td>\n",
       "      <td>1</td>\n",
       "      <td>0.764706</td>\n",
       "      <td>0.111111</td>\n",
       "    </tr>\n",
       "  </tbody>\n",
       "</table>\n",
       "</div>"
      ],
      "text/plain": [
       "   Name  Age  Income  cluster  Age_Norm  Income_Norm\n",
       "0     a   27    70.0        1  0.058824     0.213675\n",
       "1     b   29    90.0        2  0.176471     0.384615\n",
       "2     c   29    61.0        1  0.176471     0.136752\n",
       "3     d   28    60.0        1  0.117647     0.128205\n",
       "4     e   42   150.0        0  0.941176     0.897436\n",
       "5     f   39   155.0        0  0.764706     0.940171\n",
       "6     g   41   160.0        0  0.882353     0.982906\n",
       "7     h   38   162.0        0  0.705882     1.000000\n",
       "8     i   36   156.0        0  0.588235     0.948718\n",
       "9     j   35   130.0        0  0.529412     0.726496\n",
       "10    k   37   137.0        0  0.647059     0.786325\n",
       "11    l   26    45.0        1  0.000000     0.000000\n",
       "12    m   27    48.0        1  0.058824     0.025641\n",
       "13    n   28    51.0        1  0.117647     0.051282\n",
       "14    o   29    49.5        1  0.176471     0.038462\n",
       "15    p   32    53.0        1  0.352941     0.068376\n",
       "16    q   40    65.0        1  0.823529     0.170940\n",
       "17    r   41    63.0        1  0.882353     0.153846\n",
       "18    s   43    64.0        1  1.000000     0.162393\n",
       "19    t   39    80.0        2  0.764706     0.299145\n",
       "20    u   41    82.0        2  0.882353     0.316239\n",
       "21    v   39    58.0        1  0.764706     0.111111"
      ]
     },
     "execution_count": 7,
     "metadata": {},
     "output_type": "execute_result"
    }
   ],
   "source": [
    "def scale(given, flag):\n",
    "    lo, hi = min(given[flag]), max(given[flag])\n",
    "    m = 1 / (hi - lo)\n",
    "    q = - m * lo\n",
    "\n",
    "    return [ m * x + q for x in given[flag]]\n",
    "\n",
    "df[\"Age_Norm\"] = scale(df, \"Age\")\n",
    "df[\"Income_Norm\"] = scale(df, \"Income\")\n",
    "df"
   ]
  },
  {
   "cell_type": "code",
   "execution_count": 8,
   "metadata": {},
   "outputs": [
    {
     "name": "stderr",
     "output_type": "stream",
     "text": [
      "No handles with labels found to put in legend.\n"
     ]
    },
    {
     "data": {
      "text/plain": [
       "<matplotlib.legend.Legend at 0x21eb3f76b80>"
      ]
     },
     "execution_count": 8,
     "metadata": {},
     "output_type": "execute_result"
    },
    {
     "data": {
      "image/png": "[encoded data removed]",
      "text/plain": [
       "<Figure size 432x288 with 1 Axes>"
      ]
     },
     "metadata": {
      "needs_background": "light"
     },
     "output_type": "display_data"
    }
   ],
   "source": [
    "km = KMeans(n_clusters=3)\n",
    "y_pred = km.fit_predict(df[[\"Age_Norm\", \"Income_Norm\"]])\n",
    "df[\"cluster\"] = y_pred\n",
    "\n",
    "df1 = df[df.cluster == 0]\n",
    "df2 = df[df.cluster == 1]\n",
    "df3 = df[df.cluster == 2]\n",
    "\n",
    "plt.scatter(df1.Age, df1[\"Income\"], color = \"green\")\n",
    "plt.scatter(df2.Age, df2[\"Income\"], color = \"red\")\n",
    "plt.scatter(df3.Age, df3[\"Income\"], color = \"blue\")\n",
    "\n",
    "# plt.scatter(km.cluster_centers_[:, 0], km.cluster_centers_[:, 1], color= \"black\", label = \"centroid\")\n",
    "plt.legend()"
   ]
  },
  {
   "cell_type": "code",
   "execution_count": 9,
   "metadata": {},
   "outputs": [],
   "source": [
    "def euclidean_dist(x, y, args):\n",
    "    val = 0\n",
    "    for arg in args:\n",
    "        val += (x[arg] - y[arg]) ** 2\n",
    "    return sqrt(val)\n",
    "\n",
    "def nearest(sample, subject, args):\n",
    "    idx = -1\n",
    "    dist = float(\"inf\")\n",
    "    for n, node in enumerate(sample):\n",
    "        new_eval = euclidean_dist(subject, node, args)\n",
    "        if new_eval  < dist and new_eval > 0:\n",
    "            dist = new_eval\n",
    "            curr = node\n",
    "            idx = n   \n",
    "    return idx\n",
    "\n",
    "def tsp_nearest_neighbour(sample, args, start=0):\n",
    "    cpy = sample.copy()\n",
    "    path = [cpy.pop(start)]\n",
    "    while len(cpy) > 0:\n",
    "        m = nearest(cpy, path[-1], args)\n",
    "        path.append(cpy.pop(m))\n",
    "    return path\n",
    "\n",
    "def total_dist(sample, args):\n",
    "    return sum(euclidean_dist(sample[n], sample[n+1], args) for n in range(-1, len(sample) - 1))\n",
    "\n",
    "def good_tsp_nearest_neighbour(sample, args):\n",
    "    curr_best = None\n",
    "    curr_dist = float(\"inf\")\n",
    "    for n, x in enumerate(sample):\n",
    "        new_path = tsp_nearest_neighbour(sample, args,start = n)\n",
    "        new_dist = total_dist(new_path, args)\n",
    "        if new_dist < curr_dist:\n",
    "            curr_best = new_path\n",
    "            curr_dist = new_dist    \n",
    "    return curr_best\n",
    "   \n",
    "\n",
    "\n",
    "\n",
    "\n",
    "\n"
   ]
  },
  {
   "cell_type": "code",
   "execution_count": 10,
   "metadata": {},
   "outputs": [],
   "source": [
    "def distances(sample, args):\n",
    "    return [euclidean_dist(sample[n], sample[n + 1], args) for n in range(len(sample) - 1)] + [euclidean_dist(sample[-1], sample[0], args)]\n",
    "\n",
    "def adjust(original, cluster_indexes):\n",
    "    sample = original.copy()\n",
    "    set_backs = 0\n",
    "    while cluster_indexes[-1] < len(sample) - 1: #as long as there are elements to the right of the last cluster mark\n",
    "        sample = [sample[-1]] + sample[:-1]\n",
    "        cluster_indexes = [x + 1 for x in cluster_indexes]\n",
    "        set_backs += 1\n",
    "    \n",
    "    ret_val = []\n",
    "    curr_cl = 0\n",
    "    for n in range(len(sample)):\n",
    "        if n > cluster_indexes[curr_cl]:\n",
    "            curr_cl += 1\n",
    "        ret_val.append(curr_cl)\n",
    "        \n",
    "    return ret_val[set_backs:] + ret_val[:set_backs]\n",
    "    \n",
    "def cluster(original, args, k):\n",
    "    sample = original.copy()\n",
    "    enumerated_distances = [(n,d) for n, d in enumerate(distances(sample, args))]\n",
    "    enumerated_distances.sort(key= lambda x: x[1], reverse=True) #sort by distance\n",
    "    cluster_indexes = [x[0] for x in enumerated_distances[:k]] #select best k\n",
    "    cluster_indexes.sort() #sort in indexing order\n",
    "    return adjust(sample, cluster_indexes)\n"
   ]
  },
  {
   "cell_type": "code",
   "execution_count": 11,
   "metadata": {},
   "outputs": [
    {
     "data": {
      "image/png": "[encoded data removed]",
      "text/plain": [
       "<Figure size 432x288 with 1 Axes>"
      ]
     },
     "metadata": {
      "needs_background": "light"
     },
     "output_type": "display_data"
    }
   ],
   "source": [
    "a = []\n",
    "for n, x in df.iterrows():\n",
    "    a.append((x[\"Name\"], x[\"Age_Norm\"], x[\"Income_Norm\"]))\n",
    "    \n",
    "path = good_tsp_nearest_neighbour(a, [1, 2])\n",
    "#path = path[2:] + path[0:2]\n",
    "\n",
    "x_axis = [x[1] for x in path]\n",
    "y_axis = [x[2] for x in path]\n",
    "plt.plot(x_axis, y_axis, \"ro-\")\n",
    "plt.show()"
   ]
  },
  {
   "cell_type": "code",
   "execution_count": 12,
   "metadata": {},
   "outputs": [
    {
     "data": {
      "text/plain": [
       "<matplotlib.collections.PathCollection at 0x21eb3f9b7f0>"
      ]
     },
     "execution_count": 12,
     "metadata": {},
     "output_type": "execute_result"
    },
    {
     "data": {
      "image/png": "[encoded data removed]",
      "text/plain": [
       "<Figure size 432x288 with 1 Axes>"
      ]
     },
     "metadata": {
      "needs_background": "light"
     },
     "output_type": "display_data"
    }
   ],
   "source": [
    "clusters = cluster(path, [1, 2], 3)\n",
    "to_show = [{\"x\":path[n][1], \"y\":path[n][2], \"c\":clusters[n]} for n in range(len(path))]\n",
    "\n",
    "cl1 = [x for x in to_show if x[\"c\"] == 0]\n",
    "cl2 = [x for x in to_show if x[\"c\"] == 1]\n",
    "cl3 = [x for x in to_show if x[\"c\"] == 2]\n",
    "\n",
    "plt.scatter(tuple(x[\"x\"] for x in cl1), tuple(x[\"y\"] for x in cl1), color=\"red\")\n",
    "plt.scatter(tuple(x[\"x\"] for x in cl2), tuple(x[\"y\"] for x in cl2), color=\"blue\")\n",
    "plt.scatter(tuple(x[\"x\"] for x in cl3), tuple(x[\"y\"] for x in cl3), color=\"green\")"
   ]
  },
  {
   "cell_type": "code",
   "execution_count": 13,
   "metadata": {},
   "outputs": [],
   "source": [
    "import seaborn as sns\n",
    "df2 = sns.load_dataset(\"dots\")\n",
    "df2[\"val1\"] = scale(df2, \"coherence\")\n",
    "df2[\"val2\"] = scale(df2, \"firing_rate\")\n",
    "df2 = df2[:200]\n",
    "data_set = [(x[\"val1\"], x[\"val2\"]) for n,x in  df2.iterrows()]"
   ]
  },
  {
   "cell_type": "code",
   "execution_count": 14,
   "metadata": {
    "scrolled": true
   },
   "outputs": [
    {
     "data": {
      "text/plain": [
       "<matplotlib.collections.PathCollection at 0x21eb3a39940>"
      ]
     },
     "execution_count": 14,
     "metadata": {},
     "output_type": "execute_result"
    },
    {
     "data": {
      "image/png": "[encoded data removed]",
      "text/plain": [
       "<Figure size 432x288 with 1 Axes>"
      ]
     },
     "metadata": {
      "needs_background": "light"
     },
     "output_type": "display_data"
    }
   ],
   "source": [
    "x_axis = [x[0] for x in data_set]\n",
    "y_axis = [x[1] for x in data_set]\n",
    "plt.scatter(x_axis, y_axis)"
   ]
  },
  {
   "cell_type": "code",
   "execution_count": 15,
   "metadata": {},
   "outputs": [
    {
     "data": {
      "text/plain": [
       "[<matplotlib.lines.Line2D at 0x21eb42e7790>]"
      ]
     },
     "execution_count": 15,
     "metadata": {},
     "output_type": "execute_result"
    },
    {
     "data": {
      "image/png": "[encoded data removed]",
      "text/plain": [
       "<Figure size 432x288 with 1 Axes>"
      ]
     },
     "metadata": {
      "needs_background": "light"
     },
     "output_type": "display_data"
    }
   ],
   "source": [
    "data_set = good_tsp_nearest_neighbour(data_set, (0, 1))\n",
    "x_axis = [x[0] for x in data_set]\n",
    "y_axis = [x[1] for x in data_set]\n",
    "plt.plot(x_axis, y_axis, \"ro-\")"
   ]
  },
  {
   "cell_type": "code",
   "execution_count": 16,
   "metadata": {},
   "outputs": [
    {
     "data": {
      "image/png": "[encoded data removed]",
      "text/plain": [
       "<Figure size 432x288 with 1 Axes>"
      ]
     },
     "metadata": {
      "needs_background": "light"
     },
     "output_type": "display_data"
    }
   ],
   "source": [
    "clusters = cluster(data_set, (0, 1), 3)\n",
    "data_set = [(x[0], x[1], clusters[n]) for n, x in enumerate(data_set)]\n",
    "plt.scatter(tuple(x[0] for x in data_set if x[2] == 0),tuple(x[1] for x in data_set if x[2] == 0), color= \"red\")\n",
    "plt.scatter(tuple(x[0] for x in data_set if x[2] == 1),tuple(x[1] for x in data_set if x[2] == 1), color= \"green\")\n",
    "plt.scatter(tuple(x[0] for x in data_set if x[2] == 2),tuple(x[1] for x in data_set if x[2] == 2), color= \"blue\")\n",
    "plt.scatter(tuple(x[0] for x in data_set if x[2] == 3),tuple(x[1] for x in data_set if x[2] == 3), color= \"purple\")\n",
    "#plt.scatter(tuple(x[0] for x in data_set if x[2] == 4),tuple(x[1] for x in data_set if x[2] == 4), color= \"yellow\")\n",
    "\n",
    "plt.scatter([data_set[0][0]],[data_set[0][1]], color=\"black\")\n",
    "\n",
    "plt.show()"
   ]
  },
  {
   "cell_type": "code",
   "execution_count": 17,
   "metadata": {},
   "outputs": [],
   "source": [
    "def stars_and_bars(n, k, curr, ls):\n",
    "    if len(curr) == k:\n",
    "        ls.append(curr)\n",
    "        return\n",
    "    for x in range(max(curr) + 1 if len(curr) > 0 else 0, n - k + len(curr) + 1):\n",
    "        stars_and_bars(n, k, curr.copy() + [x], ls)"
   ]
  },
  {
   "cell_type": "code",
   "execution_count": 18,
   "metadata": {},
   "outputs": [],
   "source": [
    "def cluster_2(original, args, k):\n",
    "    sample = original.copy()\n",
    "    curr_best = None\n",
    "    curr_avg_dist = 0\n",
    "    ls = []\n",
    "    stars_and_bars(len(sample), k, [], ls)\n",
    "    for cluster_indexes in ls:\n",
    "        new_avg_dist = 0\n",
    "        cluster_beloning_array = adjust(sample, cluster_indexes)\n",
    "        for cluster in range(k):\n",
    "            elements_in_cluster = [x for n, x in enumerate(sample) if cluster_beloning_array[n] == cluster]\n",
    "            elements_not_in_cluster = [y for n,y in enumerate(sample) if cluster_beloning_array[n] != cluster]\n",
    "            for x in elements_in_cluster:\n",
    "                for y in elements_not_in_cluster:\n",
    "                    new_avg_dist += euclidean_dist(x, y, args)\n",
    "        if new_avg_dist > curr_avg_dist:\n",
    "            curr_best = cluster_beloning_array\n",
    "            curr_avg_dist = new_avg_dist\n",
    "        return curr_best\n"
   ]
  },
  {
   "cell_type": "code",
   "execution_count": null,
   "metadata": {},
   "outputs": [],
   "source": []
  },
  {
   "cell_type": "code",
   "execution_count": 19,
   "metadata": {},
   "outputs": [
    {
     "name": "stderr",
     "output_type": "stream",
     "text": [
      "<ipython-input-19-ec975d90542d>:1: ParserWarning: Falling back to the 'python' engine because the 'c' engine does not support regex separators (separators > 1 char and different from '\\s+' are interpreted as regex); you can avoid this warning by specifying engine='python'.\n",
      "  df3 = pd.read_csv(\"prova.txt\", sep = \"    \", names= [\"x\", \"y\"])\n"
     ]
    }
   ],
   "source": [
    "df3 = pd.read_csv(\"prova.txt\", sep = \"    \", names= [\"x\", \"y\"])\n",
    "data_set = [(x[\"x\"], x[\"y\"]) for n,x in df3.iterrows()]\n",
    "data_set = data_set[:20]\n",
    "data_set2 = data_set.copy()\n"
   ]
  },
  {
   "cell_type": "code",
   "execution_count": 20,
   "metadata": {},
   "outputs": [
    {
     "data": {
      "text/plain": [
       "<matplotlib.collections.PathCollection at 0x21eb439f790>"
      ]
     },
     "execution_count": 20,
     "metadata": {},
     "output_type": "execute_result"
    },
    {
     "data": {
      "image/png": "[encoded data removed]",
      "text/plain": [
       "<Figure size 432x288 with 1 Axes>"
      ]
     },
     "metadata": {
      "needs_background": "light"
     },
     "output_type": "display_data"
    }
   ],
   "source": [
    "x_axis = [x[0] for x in data_set]\n",
    "y_axis = [x[1] for x in data_set]\n",
    "plt.scatter(x_axis, y_axis)"
   ]
  },
  {
   "cell_type": "code",
   "execution_count": 21,
   "metadata": {},
   "outputs": [
    {
     "data": {
      "text/plain": [
       "<matplotlib.collections.PathCollection at 0x21eb440d070>"
      ]
     },
     "execution_count": 21,
     "metadata": {},
     "output_type": "execute_result"
    },
    {
     "data": {
      "image/png": "[encoded data removed]",
      "text/plain": [
       "<Figure size 432x288 with 1 Axes>"
      ]
     },
     "metadata": {
      "needs_background": "light"
     },
     "output_type": "display_data"
    }
   ],
   "source": [
    "km = KMeans(n_clusters=3)\n",
    "y_pred = km.fit_predict(data_set)\n",
    "to_show = [(x[0], x[1], y_pred[n]) for n,x in enumerate(data_set)]\n",
    "plt.scatter(tuple(x[0] for x in to_show if x[2] == 0),tuple(x[1] for x in to_show if x[2] == 0), color= \"red\")\n",
    "plt.scatter(tuple(x[0] for x in to_show if x[2] == 1),tuple(x[1] for x in to_show if x[2] == 1), color= \"blue\")\n",
    "plt.scatter(tuple(x[0] for x in to_show if x[2] == 2),tuple(x[1] for x in to_show if x[2] == 2), color= \"green\")"
   ]
  },
  {
   "cell_type": "code",
   "execution_count": 22,
   "metadata": {},
   "outputs": [
    {
     "name": "stdout",
     "output_type": "stream",
     "text": [
      "[(607269, 536961, 0), (618600, 551446, 0), (612184, 570393, 0), (604737, 574591, 0), (604678, 574577, 0), (603145, 574795, 0), (602013, 574722, 0), (600032, 575310, 0), (597173, 575538, 0), (588100, 557588, 0), (582015, 546191, 0), (572029, 518313, 0), (577728, 587566, 1), (601967, 604428, 1), (627912, 593892, 1), (635690, 608046, 1), (627968, 574625, 1), (665845, 557965, 2), (664159, 550946, 2), (671919, 571761, 2)]\n"
     ]
    },
    {
     "data": {
      "image/png": "[encoded data removed]",
      "text/plain": [
       "<Figure size 432x288 with 1 Axes>"
      ]
     },
     "metadata": {
      "needs_background": "light"
     },
     "output_type": "display_data"
    },
    {
     "data": {
      "text/plain": [
       "<matplotlib.collections.PathCollection at 0x21eb44b7940>"
      ]
     },
     "execution_count": 22,
     "metadata": {},
     "output_type": "execute_result"
    },
    {
     "data": {
      "image/png": "[encoded data removed]",
      "text/plain": [
       "<Figure size 432x288 with 1 Axes>"
      ]
     },
     "metadata": {
      "needs_background": "light"
     },
     "output_type": "display_data"
    }
   ],
   "source": [
    "data_set2 = good_tsp_nearest_neighbour(data_set2, (0, 1))\n",
    "y_pred = cluster(data_set2, (0, 1), 3)\n",
    "to_show = [(x[0], x[1], y_pred[n]) for n,x in enumerate(data_set2)]\n",
    "print(to_show)\n",
    "plt.plot(tuple(x[0] for x in data_set2), tuple(x[1] for x in data_set2), \"ro-\")\n",
    "plt.show()\n",
    "plt.scatter(tuple(x[0] for x in to_show if x[2] == 0),tuple(x[1] for x in to_show if x[2] == 0), color= \"red\")\n",
    "plt.scatter(tuple(x[0] for x in to_show if x[2] == 1),tuple(x[1] for x in to_show if x[2] == 1), color= \"blue\")\n",
    "plt.scatter(tuple(x[0] for x in to_show if x[2] == 2),tuple(x[1] for x in to_show if x[2] == 2), color= \"green\")\n",
    "plt.scatter(tuple(x[0] for x in to_show if x[2] == 3),tuple(x[1] for x in to_show if x[2] == 3), color= \"black\")"
   ]
  },
  {
   "cell_type": "code",
   "execution_count": 23,
   "metadata": {},
   "outputs": [
    {
     "data": {
      "image/png": "[encoded data removed]",
      "text/plain": [
       "<Figure size 432x288 with 1 Axes>"
      ]
     },
     "metadata": {
      "needs_background": "light"
     },
     "output_type": "display_data"
    }
   ],
   "source": [
    "plt.plot(tuple(x[0] for x in to_show if x[2] == 0),tuple(x[1] for x in to_show if x[2] == 0), \"ro-\")\n",
    "plt.show()"
   ]
  },
  {
   "cell_type": "code",
   "execution_count": 24,
   "metadata": {},
   "outputs": [
    {
     "name": "stdout",
     "output_type": "stream",
     "text": [
      "[]  [1, 3]\n",
      "[0]  [1, 3]\n",
      "[0, 0]  [1, 3]\n",
      "[0, 0, 1]  [1, 3]\n",
      "[0, 0, 1, 1]  [1, 3]\n",
      "[0, 0, 1, 1, 0]\n"
     ]
    }
   ],
   "source": [
    "def ciro(ls, result):\n",
    "    n=0\n",
    "    arr = []\n",
    "    for i,x in enumerate(ls):\n",
    "        print(f\"{arr}  {result}\")\n",
    "        arr.append(n)\n",
    "        if i == result[n]:\n",
    "            n = (n+1) % len(result)\n",
    "        \n",
    "    return arr\n",
    "print(ciro([i for i in range(5)],[1,3 ]))"
   ]
  },
  {
   "cell_type": "code",
   "execution_count": null,
   "metadata": {},
   "outputs": [],
   "source": []
  }
 ],
 "metadata": {
  "kernelspec": {
   "display_name": "Python 3",
   "language": "python",
   "name": "python3"
  },
  "language_info": {
   "codemirror_mode": {
    "name": "ipython",
    "version": 3
   },
   "file_extension": ".py",
   "mimetype": "text/x-python",
   "name": "python",
   "nbconvert_exporter": "python",
   "pygments_lexer": "ipython3",
   "version": "3.8.5"
  }
 },
 "nbformat": 4,
 "nbformat_minor": 4
}
